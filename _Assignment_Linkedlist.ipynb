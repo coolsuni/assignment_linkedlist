{
 "cells": [
  {
   "cell_type": "code",
   "execution_count": 2,
   "id": "719aca89-21f6-4e6c-98c5-89fc2972d425",
   "metadata": {},
   "outputs": [],
   "source": [
    "#1) define a double linked list\n",
    "\n"
   ]
  },
  {
   "cell_type": "code",
   "execution_count": 72,
   "id": "ffc3ddae-76f7-47ef-bcb3-549dab81ec34",
   "metadata": {},
   "outputs": [],
   "source": [
    "class Node:\n",
    "    def __init__(self, new_data):\n",
    "        self.data = new_data\n",
    "        self.next = None\n",
    "        self.prev = None\n",
    "\n",
    "\n",
    "def print_list(head):\n",
    "    curr = head\n",
    "    while curr is not None:\n",
    "        print(f\" {curr.data}\", end='')\n",
    "        curr = curr.next\n",
    "    print()  "
   ]
  },
  {
   "cell_type": "code",
   "execution_count": 74,
   "id": "2a115972-c798-4c8f-b128-dd2d48da115e",
   "metadata": {},
   "outputs": [
    {
     "name": "stdout",
     "output_type": "stream",
     "text": [
      "Original Linked List:-> 2 3 4\n"
     ]
    }
   ],
   "source": [
    "\n",
    "if __name__ == \"__main__\":\n",
    "  \n",
    "    head = Node(2)\n",
    "    head.next = Node(3)\n",
    "    head.next.prev = head\n",
    "    head.next.next = Node(4)\n",
    "    head.next.next.prev = head.next\n",
    "\n",
    "\n",
    "    print(\"Original Linked List:\", end='->')\n",
    "    print_list(head)\n",
    "\n",
    "    "
   ]
  },
  {
   "cell_type": "code",
   "execution_count": 75,
   "id": "e498b373-fecb-48ef-b089-46746270b39e",
   "metadata": {},
   "outputs": [],
   "source": [
    "#2) to reverse a linked list\n",
    "\n"
   ]
  },
  {
   "cell_type": "code",
   "execution_count": 92,
   "id": "7b14f38d-d4b3-4842-8e16-6a44cc02535e",
   "metadata": {},
   "outputs": [],
   "source": [
    "class Node:\n",
    "    def __init__(self, val):\n",
    "        self.data = val\n",
    "        self.next = None\n",
    "        self.prev = None\n",
    "\n",
    "\n",
    "def reverse(curr):\n",
    "  \n",
    "   \n",
    "    if curr is None:\n",
    "        return None\n",
    "\n",
    "   \n",
    "    temp = curr.prev\n",
    "    curr.prev = curr.next\n",
    "    curr.next = temp\n",
    "\n",
    "  \n",
    "    if curr.prev is None:\n",
    "        return curr\n",
    "\n",
    "  \n",
    "    return reverse(curr.prev)\n",
    "\n",
    "def print_list(node):\n",
    "    while node is not None:\n",
    "        print(node.data, end=\" \")\n",
    "        node = node.next\n",
    "    print()"
   ]
  },
  {
   "cell_type": "code",
   "execution_count": 94,
   "id": "87fd2e6c-14f2-4daa-802b-14097f98c3d1",
   "metadata": {},
   "outputs": [
    {
     "name": "stdout",
     "output_type": "stream",
     "text": [
      "Original Linked list\n",
      "1 2 3 4 \n",
      "\n",
      "Reversed Linked list\n",
      "4 3 2 1 \n"
     ]
    }
   ],
   "source": [
    "if __name__ == \"__main__\":\n",
    "  \n",
    "    head = Node(1)\n",
    "    head.next = Node(2)\n",
    "    head.next.prev = head\n",
    "    head.next.next = Node(3)\n",
    "    head.next.next.prev = head.next\n",
    "    head.next.next.next = Node(4)\n",
    "    head.next.next.next.prev = head.next.next\n",
    "\n",
    "    print(\"Original Linked list\")\n",
    "    print_list(head)\n",
    "    head = reverse(head)\n",
    "    print(\"\\nReversed Linked list\")\n",
    "    print_list(head)"
   ]
  },
  {
   "cell_type": "code",
   "execution_count": 95,
   "id": "1976e627-2655-4d63-8429-7c4927ba4ce0",
   "metadata": {},
   "outputs": [],
   "source": [
    "#3) to detect cycle in a linked list\n",
    "\n"
   ]
  },
  {
   "cell_type": "code",
   "execution_count": 96,
   "id": "53945726-f3e7-497d-b54d-3a677d953086",
   "metadata": {},
   "outputs": [],
   "source": [
    "class Node:\n",
    "    def __init__(self, new_data):\n",
    "        self.data = new_data\n",
    "        self.next = None\n",
    "\n",
    "def detect_loop(head):\n",
    "    node_set = set()\n",
    "\n",
    "   \n",
    "    while head is not None:\n",
    "\n",
    "        if head in node_set:\n",
    "            return True\n",
    "\n",
    "        node_set.add(head)\n",
    "        head = head.next\n",
    "    return False"
   ]
  },
  {
   "cell_type": "code",
   "execution_count": 97,
   "id": "d7d9ad98-85bc-4b68-a1e9-579101b89ff9",
   "metadata": {},
   "outputs": [
    {
     "name": "stdout",
     "output_type": "stream",
     "text": [
      "Loop Found\n"
     ]
    }
   ],
   "source": [
    "head = Node(10)\n",
    "head.next = Node(20)\n",
    "head.next.next = Node(30)\n",
    "head.next.next.next = Node(40)\n",
    "head.next.next.next.next = Node(50)\n",
    "head.next.next.next.next.next = Node(60)\n",
    "\n",
    "head.next.next.next.next = head\n",
    "\n",
    "if detect_loop(head):\n",
    "    print(\"Loop Found\")\n",
    "else:\n",
    "    print(\"No Loop\")"
   ]
  },
  {
   "cell_type": "code",
   "execution_count": 1,
   "id": "1a100b71-cf28-4791-84e1-5b7f531f1d17",
   "metadata": {},
   "outputs": [],
   "source": [
    "#4) merge two sorted linked list into one\n",
    "\n"
   ]
  },
  {
   "cell_type": "code",
   "execution_count": 3,
   "id": "13f5f478-1274-40bd-99be-111a2bf2887f",
   "metadata": {},
   "outputs": [],
   "source": [
    "class Node:\n",
    "    def __init__(self, x):\n",
    "        self.data = x\n",
    "        self.next = None\n",
    "\n",
    "def merge_sorted_list(a, b):\n",
    "    \n",
    "    vec = []\n",
    "   \n",
    "    while a:\n",
    "        vec.append(a.data)\n",
    "        a = a.next\n",
    "   \n",
    "    while b:\n",
    "        vec.append(b.data)\n",
    "        b = b.next\n",
    "  \n",
    "    vec.sort()\n",
    " \n",
    "    temp = Node(-1)\n",
    "    head = temp\n",
    "    for value in vec:\n",
    "        temp.next = Node(value)\n",
    "        temp = temp.next\n",
    "    head = head.next\n",
    "    return head"
   ]
  },
  {
   "cell_type": "code",
   "execution_count": 5,
   "id": "34f7742a-250f-44e3-8e05-0b284b15ead1",
   "metadata": {},
   "outputs": [
    {
     "name": "stdout",
     "output_type": "stream",
     "text": [
      "Merged Link List is:\n",
      "1 2 3 4 5 6 7 8 "
     ]
    }
   ],
   "source": [
    "a = Node(2)\n",
    "a.next = Node(4)\n",
    "a.next.next = Node(7)\n",
    "a.next.next.next = Node(8)\n",
    "b = Node(1)\n",
    "b.next = Node(3)\n",
    "b.next.next = Node(5)\n",
    "b.next.next.next = Node(6)\n",
    "\n",
    "merged_list = merge_sorted_list(a, b)\n",
    "\n",
    "temp = merged_list\n",
    "print(\"Merged Link List is:\")\n",
    "while temp:\n",
    "    print(temp.data, end=\" \")\n",
    "    temp = temp.next"
   ]
  },
  {
   "cell_type": "code",
   "execution_count": 6,
   "id": "8d17bc93-3631-41e8-bdce-d24b491e321b",
   "metadata": {},
   "outputs": [],
   "source": [
    "#5) to remove nth node from end of the linked list\n",
    "\n"
   ]
  },
  {
   "cell_type": "code",
   "execution_count": 7,
   "id": "e9b12ad1-a941-4e39-8c83-271e7178a0a5",
   "metadata": {},
   "outputs": [],
   "source": [
    "class Node:\n",
    "    def __init__(self, value):\n",
    "        self.data = value\n",
    "        self.next = None\n",
    "\n",
    "def length(head):\n",
    "    temp = head\n",
    "    count = 0\n",
    "    while(temp != None):\n",
    "        count += 1\n",
    "        temp = temp.next\n",
    "    return count\n",
    "\n",
    "def printList(head):\n",
    "    ptr = head\n",
    "    while(ptr != None):\n",
    "        print (ptr.data, end =\" \")\n",
    "        ptr = ptr.next\n",
    "    print()\n",
    "\n",
    "def deleteNthNodeFromEnd(head, n):\n",
    "    Length = length(head)\n",
    "    nodeFromBeginning = Length - n + 1\n",
    "    prev = None\n",
    "    temp = head\n",
    "    for i in range(1, nodeFromBeginning):\n",
    "        prev = temp\n",
    "        temp = temp.next\n",
    "    if(prev == None):\n",
    "        head = head.next\n",
    "        return head\n",
    "    else:\n",
    "        prev.next = prev.next.next\n",
    "        return head"
   ]
  },
  {
   "cell_type": "code",
   "execution_count": 8,
   "id": "75976dab-21c8-4e18-850b-3b6cbf83d182",
   "metadata": {},
   "outputs": [
    {
     "name": "stdout",
     "output_type": "stream",
     "text": [
      "Linked List before Deletion:\n",
      "1 2 3 4 5 \n",
      "Linked List after Deletion:\n",
      "1 3 4 5 \n"
     ]
    }
   ],
   "source": [
    "if __name__ == '__main__':\n",
    "    head = Node(1)\n",
    "    head.next = Node(2)\n",
    "    head.next.next = Node(3)\n",
    "    head.next.next.next = Node(4)\n",
    "    head.next.next.next.next = Node(5)\n",
    "    print(\"Linked List before Deletion:\")\n",
    "    printList(head)\n",
    "\n",
    "    head = deleteNthNodeFromEnd(head, 4)\n",
    "\n",
    "    print(\"Linked List after Deletion:\")\n",
    "    printList(head)"
   ]
  },
  {
   "cell_type": "code",
   "execution_count": 9,
   "id": "4ba1a03b-690c-4ba0-a40e-fede05658166",
   "metadata": {},
   "outputs": [],
   "source": [
    "#6) remove duplicates from a sorted linked list\n",
    "\n"
   ]
  },
  {
   "cell_type": "code",
   "execution_count": 13,
   "id": "a21c84b0-5df6-4428-b057-c532aecaf038",
   "metadata": {},
   "outputs": [],
   "source": [
    "class Node:\n",
    "    def __init__(self, x):\n",
    "        self.data = x\n",
    "        self.next = None\n",
    "\n",
    "\n",
    "def remove_duplicates(head):\n",
    "\n",
    " \n",
    "    st = set()\n",
    " \n",
    "    temp = head\n",
    "    new_head = None\n",
    "    tail = None\n",
    "    \n",
    "    while temp:\n",
    "      \n",
    "        if temp.data not in st:\n",
    "         \n",
    "            new_node = Node(temp.data)\n",
    "          \n",
    "            if new_head is None:\n",
    "                new_head = new_node\n",
    "                tail = new_head\n",
    "            else:\n",
    "                tail.next = new_node\n",
    "                tail = new_node\n",
    "\n",
    "      \n",
    "            st.add(temp.data)\n",
    "    \n",
    "        temp = temp.next\n",
    "   \n",
    "    return new_head\n",
    "\n",
    "\n",
    "def print_list(node):\n",
    "    while node:\n",
    "        print(node.data, end=\" \")\n",
    "        node = node.next\n",
    "    print()"
   ]
  },
  {
   "cell_type": "code",
   "execution_count": 15,
   "id": "940b975a-4930-457a-b6ac-eb048b43cfed",
   "metadata": {},
   "outputs": [
    {
     "name": "stdout",
     "output_type": "stream",
     "text": [
      "Linked list before duplicate removal:\n",
      "1 2 3 3 4 4 5 \n",
      "Linked list after duplicate removal:\n",
      "1 2 3 4 5 \n"
     ]
    }
   ],
   "source": [
    "if __name__ == \"__main__\":\n",
    "  \n",
    "    head = Node(1)\n",
    "    head.next = Node(2)\n",
    "    head.next.next = Node(3)\n",
    "    head.next.next.next = Node(3)\n",
    "    head.next.next.next.next = Node(4)\n",
    "    head.next.next.next.next.next = Node(4)\n",
    "    head.next.next.next.next.next.next = Node(5)\n",
    "    print(\"Linked list before duplicate removal:\")\n",
    "    print_list(head)\n",
    "\n",
    "    head = remove_duplicates(head)\n",
    "\n",
    "    print(\"Linked list after duplicate removal:\")\n",
    "    print_list(head)"
   ]
  },
  {
   "cell_type": "code",
   "execution_count": 16,
   "id": "5c4fdf02-2286-47d7-9eb7-6771feeb2d2b",
   "metadata": {},
   "outputs": [],
   "source": [
    "#7) to find intersection of two linked list\n",
    "\n"
   ]
  },
  {
   "cell_type": "code",
   "execution_count": 17,
   "id": "88d8def8-ac20-45b3-9edd-421d17de25fd",
   "metadata": {},
   "outputs": [],
   "source": [
    "class Node:\n",
    "    def __init__(self, new_data):\n",
    "        self.data = new_data\n",
    "        self.next = None\n",
    "\n",
    "\n",
    "\n",
    "def get_intersection_node(head1, head2):\n",
    "\n",
    "    while head2 is not None:\n",
    "        temp = head1\n",
    "           \n",
    "        while temp is not None:\n",
    "            if temp is head2:\n",
    "                return head2\n",
    "            temp = temp.next\n",
    "        head2 = head2.next\n",
    "  \n",
    "    return None"
   ]
  },
  {
   "cell_type": "code",
   "execution_count": 18,
   "id": "128f7bce-300f-4a20-8190-1b1019ef1f76",
   "metadata": {},
   "outputs": [
    {
     "name": "stdout",
     "output_type": "stream",
     "text": [
      "Intersection Point: 15\n"
     ]
    }
   ],
   "source": [
    "if __name__ == \"__main__\":\n",
    "  \n",
    "    head1 = Node(10)\n",
    "    head1.next = Node(15)\n",
    "    head1.next.next = Node(30)\n",
    "    head2 = Node(3)\n",
    "    head2.next = Node(6)\n",
    "    head2.next.next = Node(9)\n",
    "    head2.next.next.next = head1.next\n",
    "    intersection_point = get_intersection_node(head1, head2)\n",
    "\n",
    "    if intersection_point is None:\n",
    "        print(\"No Intersection Point\")\n",
    "    else:\n",
    "        print(\"Intersection Point:\", intersection_point.data)"
   ]
  },
  {
   "cell_type": "code",
   "execution_count": 19,
   "id": "dab774a5-e0d8-4e0e-92c6-43ebd28cedef",
   "metadata": {},
   "outputs": [],
   "source": [
    "#8) rotate a linked list by k positions to the right\n",
    "\n"
   ]
  },
  {
   "cell_type": "code",
   "execution_count": 30,
   "id": "e7bc2880-55b1-44b7-bbbb-68a6c09797a1",
   "metadata": {},
   "outputs": [],
   "source": [
    "class Node: \n",
    "\n",
    "\n",
    "\tdef __init__(self, data): \n",
    "\t\tself.data = data \n",
    "\t\tself.next = None\n",
    "\n",
    "\n",
    "class LinkedList: \n",
    "\n",
    "\tdef __init__(self): \n",
    "\t\tself.head = None\n",
    "\n",
    "\tdef push(self, new_data): \n",
    "\t\tnew_node = Node(new_data) \n",
    "\t\n",
    "\t\tnew_node.next = self.head \n",
    "\n",
    "\t\tself.head = new_node \n",
    "\n",
    "\t\n",
    "\tdef printList(self): \n",
    "\t\ttemp = self.head \n",
    "\t\twhile(temp): \n",
    "\t\t\tprint (temp.data) \n",
    "\t\t\ttemp = temp.next\n",
    "\n",
    "\tdef rotate(self, k): \n",
    "\t\tif k == 0: \n",
    "\t\t\treturn\n",
    "\n",
    "\t\tcurrent = self.head \n",
    "\t\t\n",
    "\t\tcount = 1\n",
    "\t\twhile(count < k and current is not None): \n",
    "\t\t\tcurrent = current.next\n",
    "\t\t\tcount += 1\n",
    "\t\n",
    "\t\tif current is None: \n",
    "\t\t\treturn\n",
    "\t\n",
    "\t\tkthNode = current \n",
    "\t\t\n",
    "\t\twhile(current.next is not None): \n",
    "\t\t\tcurrent = current.next\n",
    "\t\n",
    "\t\tcurrent.next = self.head \n",
    "\n",
    "\t\tself.head = kthNode.next\n",
    "\t\n",
    "\t\tkthNode.next = None"
   ]
  },
  {
   "cell_type": "code",
   "execution_count": 31,
   "id": "17a3aa0b-4e11-4bca-9dae-ab336358c482",
   "metadata": {},
   "outputs": [
    {
     "name": "stdout",
     "output_type": "stream",
     "text": [
      "Given linked list\n",
      "10\n",
      "20\n",
      "30\n",
      "40\n",
      "50\n",
      "60\n",
      "\n",
      "Rotated Linked list\n",
      "50\n",
      "60\n",
      "10\n",
      "20\n",
      "30\n",
      "40\n"
     ]
    }
   ],
   "source": [
    "llist = LinkedList() \n",
    "\n",
    "for i in range(60, 0, -10): \n",
    "\tllist.push(i) \n",
    "\n",
    "print (\"Given linked list\")\n",
    "llist.printList() \n",
    "llist.rotate(4) \n",
    "\n",
    "print (\"\\nRotated Linked list\")\n",
    "llist.printList() \n",
    "\n",
    "\n"
   ]
  },
  {
   "cell_type": "code",
   "execution_count": null,
   "id": "61dbea6c-4fe4-4f2b-85d5-0ab6afb65cc3",
   "metadata": {},
   "outputs": [],
   "source": []
  },
  {
   "cell_type": "code",
   "execution_count": null,
   "id": "db04af6d-8da5-48f6-81ce-628404a1fddc",
   "metadata": {},
   "outputs": [],
   "source": []
  }
 ],
 "metadata": {
  "kernelspec": {
   "display_name": "Python 3 (ipykernel)",
   "language": "python",
   "name": "python3"
  },
  "language_info": {
   "codemirror_mode": {
    "name": "ipython",
    "version": 3
   },
   "file_extension": ".py",
   "mimetype": "text/x-python",
   "name": "python",
   "nbconvert_exporter": "python",
   "pygments_lexer": "ipython3",
   "version": "3.10.8"
  }
 },
 "nbformat": 4,
 "nbformat_minor": 5
}
